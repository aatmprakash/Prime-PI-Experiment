{
 "cells": [
  {
   "cell_type": "code",
   "execution_count": null,
   "metadata": {},
   "outputs": [],
   "source": [
    "function mandelbrot(a)\n",
    "    z = 0\n",
    "    for i=1:50\n",
    "        z = z^2 + a\n",
    "    end\n",
    "    return z\n",
    "end\n",
    "for y=1.0:-0.05:-1.0\n",
    "    for x=-2.0:0.0315:0.5\n",
    "        abs(mandelbrot(complex(x, y))) < 2 ? print(\"*\") : print(\" \")\n",
    "    end\n",
    "    println()\n",
    "\n",
    "end"
   ]
  },
  {
   "cell_type": "code",
   "execution_count": 19,
   "metadata": {},
   "outputs": [],
   "source": [
    "begin\n",
    "    using PlutoUI\n",
    "    using Pkg\n",
    "    using  IJulia\n",
    "end"
   ]
  },
  {
   "cell_type": "code",
   "execution_count": 20,
   "metadata": {},
   "outputs": [
    {
     "ename": "LoadError",
     "evalue": "IJulia is already running",
     "output_type": "error",
     "traceback": [
      "IJulia is already running",
      "",
      "Stacktrace:",
      " [1] error(s::String)",
      "   @ Base .\\error.jl:35",
      " [2] notebook(; dir::String, detached::Bool)",
      "   @ IJulia C:\\Users\\apsag\\.julia\\packages\\IJulia\\6TIq1\\src\\jupyter.jl:95",
      " [3] notebook()",
      "   @ IJulia C:\\Users\\apsag\\.julia\\packages\\IJulia\\6TIq1\\src\\jupyter.jl:94",
      " [4] top-level scope",
      "   @ In[20]:1"
     ]
    }
   ],
   "source": [
    "notebook()"
   ]
  },
  {
   "cell_type": "code",
   "execution_count": 16,
   "metadata": {},
   "outputs": [
    {
     "name": "stderr",
     "output_type": "stream",
     "text": [
      "\u001b[32m\u001b[1m    Building\u001b[22m\u001b[39m Conda ─→ `C:\\Users\\apsag\\.julia\\scratchspaces\\44cfe95a-1eb2-52ea-b672-e2afdf69b78f\\e32a90da027ca45d84678b826fffd3110bb3fc90\\build.log`\n",
      "\u001b[32m\u001b[1m    Building\u001b[22m\u001b[39m IJulia → `C:\\Users\\apsag\\.julia\\scratchspaces\\44cfe95a-1eb2-52ea-b672-e2afdf69b78f\\59e19713542dd9dd02f31d59edbada69530d6a14\\build.log`\n"
     ]
    }
   ],
   "source": [
    "ENV[\"IJULIA_DEBUG\"] = true\n",
    "Pkg.build(\"IJulia\")"
   ]
  },
  {
   "cell_type": "code",
   "execution_count": 21,
   "metadata": {},
   "outputs": [
    {
     "ename": "LoadError",
     "evalue": "LoadError: UndefVarError: @bind not defined\nin expression starting at In[21]:1",
     "output_type": "error",
     "traceback": [
      "LoadError: UndefVarError: @bind not defined\nin expression starting at In[21]:1",
      ""
     ]
    }
   ],
   "source": [
    "@bind x Slider(5:15)"
   ]
  },
  {
   "cell_type": "code",
   "execution_count": null,
   "metadata": {},
   "outputs": [],
   "source": [
    "x\n"
   ]
  }
 ],
 "metadata": {
  "kernelspec": {
   "display_name": "Julia 1.8.5",
   "language": "julia",
   "name": "julia-1.8"
  },
  "language_info": {
   "file_extension": ".jl",
   "mimetype": "application/julia",
   "name": "julia",
   "version": "1.8.5"
  },
  "orig_nbformat": 4,
  "vscode": {
   "interpreter": {
    "hash": "0d78696a27ae2026c38e725e1f4f82185b82efadcdf6facd27e6f8e258154fa6"
   }
  }
 },
 "nbformat": 4,
 "nbformat_minor": 2
}
